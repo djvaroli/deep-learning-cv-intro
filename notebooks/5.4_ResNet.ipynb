{
  "cells": [
    {
      "cell_type": "markdown",
      "source": "# Adapted from [Dive into Deep Learning](https://d2l.ai/index.html), Chapter 7, Section 6. The authors are prominent Amazon data scientists, so they work primarily with the [MXNet](https://mxnet.apache.org/versions/1.7.0/) framework rather than [TensorFlow](https://www.tensorflow.org/) or [PyTorch](https://pytorch.org/). As such, this assignment will rely on MXNet as well. ",
      "metadata": {
        "id": "qi9L0veTKe7M",
        "cell_id": "00000-eb5fd549-9ab7-4867-a203-61cb94a6a124",
        "deepnote_cell_type": "markdown"
      }
    },
    {
      "cell_type": "markdown",
      "source": "The following additional libraries are needed to run this\nnotebook. Note that running on Colab is experimental, please report a Github\nissue if you have any problem.",
      "metadata": {
        "id": "3It3ictg77Bq",
        "cell_id": "00001-5baff1a1-f29d-4171-978e-62ec8a88520f",
        "deepnote_cell_type": "markdown"
      }
    },
    {
      "cell_type": "markdown",
      "source": "## If running this notebook in Colab, make sure to navigate to Runtime > Change runtime type, select GPU in the Hardward accelerator drop-down menu, and click Save *before* running the following code cell! Otherwise, `mxnet-cu101` won't install.",
      "metadata": {
        "id": "tYaw1beRgYDV",
        "cell_id": "00002-fb843813-78a3-4e6c-a1a8-9ae7ba1b4c72",
        "deepnote_cell_type": "markdown"
      }
    },
    {
      "cell_type": "code",
      "metadata": {
        "id": "4Q2SU8JE77Br",
        "deepnote_to_be_reexecuted": false,
        "source_hash": "689d87f",
        "execution_millis": 8783,
        "execution_start": 1618630974543,
        "outputId": "bd923f38-2fdb-4618-bbe8-f8602a2dacac",
        "colab": {
          "base_uri": "https://localhost:8080/"
        },
        "cell_id": "00003-3f5bbe6a-8c7a-4b85-a24f-e5c0e1bb6be3",
        "deepnote_cell_type": "code"
      },
      "source": "!pip install d2l==0.15.1\n!pip install -U mxnet-cu101==1.7.0",
      "execution_count": 65,
      "outputs": [
        {
          "output_type": "stream",
          "text": "Requirement already satisfied: d2l==0.15.1 in /usr/local/lib/python3.7/dist-packages (0.15.1)\nRequirement already satisfied: numpy in /usr/local/lib/python3.7/dist-packages (from d2l==0.15.1) (1.19.5)\nRequirement already satisfied: pandas in /usr/local/lib/python3.7/dist-packages (from d2l==0.15.1) (1.1.5)\nRequirement already satisfied: matplotlib in /usr/local/lib/python3.7/dist-packages (from d2l==0.15.1) (3.2.2)\nRequirement already satisfied: jupyter in /usr/local/lib/python3.7/dist-packages (from d2l==0.15.1) (1.0.0)\nRequirement already satisfied: python-dateutil>=2.7.3 in /usr/local/lib/python3.7/dist-packages (from pandas->d2l==0.15.1) (2.8.1)\nRequirement already satisfied: pytz>=2017.2 in /usr/local/lib/python3.7/dist-packages (from pandas->d2l==0.15.1) (2018.9)\nRequirement already satisfied: cycler>=0.10 in /usr/local/lib/python3.7/dist-packages (from matplotlib->d2l==0.15.1) (0.10.0)\nRequirement already satisfied: kiwisolver>=1.0.1 in /usr/local/lib/python3.7/dist-packages (from matplotlib->d2l==0.15.1) (1.3.1)\nRequirement already satisfied: pyparsing!=2.0.4,!=2.1.2,!=2.1.6,>=2.0.1 in /usr/local/lib/python3.7/dist-packages (from matplotlib->d2l==0.15.1) (2.4.7)\nRequirement already satisfied: ipywidgets in /usr/local/lib/python3.7/dist-packages (from jupyter->d2l==0.15.1) (7.6.3)\nRequirement already satisfied: nbconvert in /usr/local/lib/python3.7/dist-packages (from jupyter->d2l==0.15.1) (5.6.1)\nRequirement already satisfied: qtconsole in /usr/local/lib/python3.7/dist-packages (from jupyter->d2l==0.15.1) (5.0.3)\nRequirement already satisfied: ipykernel in /usr/local/lib/python3.7/dist-packages (from jupyter->d2l==0.15.1) (4.10.1)\nRequirement already satisfied: notebook in /usr/local/lib/python3.7/dist-packages (from jupyter->d2l==0.15.1) (5.3.1)\nRequirement already satisfied: jupyter-console in /usr/local/lib/python3.7/dist-packages (from jupyter->d2l==0.15.1) (5.2.0)\nRequirement already satisfied: six>=1.5 in /usr/local/lib/python3.7/dist-packages (from python-dateutil>=2.7.3->pandas->d2l==0.15.1) (1.15.0)\nRequirement already satisfied: nbformat>=4.2.0 in /usr/local/lib/python3.7/dist-packages (from ipywidgets->jupyter->d2l==0.15.1) (5.1.3)\nRequirement already satisfied: jupyterlab-widgets>=1.0.0; python_version >= \"3.6\" in /usr/local/lib/python3.7/dist-packages (from ipywidgets->jupyter->d2l==0.15.1) (1.0.0)\nRequirement already satisfied: widgetsnbextension~=3.5.0 in /usr/local/lib/python3.7/dist-packages (from ipywidgets->jupyter->d2l==0.15.1) (3.5.1)\nRequirement already satisfied: traitlets>=4.3.1 in /usr/local/lib/python3.7/dist-packages (from ipywidgets->jupyter->d2l==0.15.1) (5.0.5)\nRequirement already satisfied: ipython>=4.0.0; python_version >= \"3.3\" in /usr/local/lib/python3.7/dist-packages (from ipywidgets->jupyter->d2l==0.15.1) (5.5.0)\nRequirement already satisfied: jupyter-core in /usr/local/lib/python3.7/dist-packages (from nbconvert->jupyter->d2l==0.15.1) (4.7.1)\nRequirement already satisfied: bleach in /usr/local/lib/python3.7/dist-packages (from nbconvert->jupyter->d2l==0.15.1) (3.3.0)\nRequirement already satisfied: testpath in /usr/local/lib/python3.7/dist-packages (from nbconvert->jupyter->d2l==0.15.1) (0.4.4)\nRequirement already satisfied: jinja2>=2.4 in /usr/local/lib/python3.7/dist-packages (from nbconvert->jupyter->d2l==0.15.1) (2.11.3)\nRequirement already satisfied: mistune<2,>=0.8.1 in /usr/local/lib/python3.7/dist-packages (from nbconvert->jupyter->d2l==0.15.1) (0.8.4)\nRequirement already satisfied: pandocfilters>=1.4.1 in /usr/local/lib/python3.7/dist-packages (from nbconvert->jupyter->d2l==0.15.1) (1.4.3)\nRequirement already satisfied: entrypoints>=0.2.2 in /usr/local/lib/python3.7/dist-packages (from nbconvert->jupyter->d2l==0.15.1) (0.3)\nRequirement already satisfied: pygments in /usr/local/lib/python3.7/dist-packages (from nbconvert->jupyter->d2l==0.15.1) (2.6.1)\nRequirement already satisfied: defusedxml in /usr/local/lib/python3.7/dist-packages (from nbconvert->jupyter->d2l==0.15.1) (0.7.1)\nRequirement already satisfied: qtpy in /usr/local/lib/python3.7/dist-packages (from qtconsole->jupyter->d2l==0.15.1) (1.9.0)\nRequirement already satisfied: pyzmq>=17.1 in /usr/local/lib/python3.7/dist-packages (from qtconsole->jupyter->d2l==0.15.1) (22.0.3)\nRequirement already satisfied: jupyter-client>=4.1 in /usr/local/lib/python3.7/dist-packages (from qtconsole->jupyter->d2l==0.15.1) (5.3.5)\nRequirement already satisfied: ipython-genutils in /usr/local/lib/python3.7/dist-packages (from qtconsole->jupyter->d2l==0.15.1) (0.2.0)\nRequirement already satisfied: tornado>=4.0 in /usr/local/lib/python3.7/dist-packages (from ipykernel->jupyter->d2l==0.15.1) (5.1.1)\nRequirement already satisfied: Send2Trash in /usr/local/lib/python3.7/dist-packages (from notebook->jupyter->d2l==0.15.1) (1.5.0)\nRequirement already satisfied: terminado>=0.8.1 in /usr/local/lib/python3.7/dist-packages (from notebook->jupyter->d2l==0.15.1) (0.9.4)\nRequirement already satisfied: prompt-toolkit<2.0.0,>=1.0.0 in /usr/local/lib/python3.7/dist-packages (from jupyter-console->jupyter->d2l==0.15.1) (1.0.18)\nRequirement already satisfied: jsonschema!=2.5.0,>=2.4 in /usr/local/lib/python3.7/dist-packages (from nbformat>=4.2.0->ipywidgets->jupyter->d2l==0.15.1) (2.6.0)\nRequirement already satisfied: decorator in /usr/local/lib/python3.7/dist-packages (from ipython>=4.0.0; python_version >= \"3.3\"->ipywidgets->jupyter->d2l==0.15.1) (4.4.2)\nRequirement already satisfied: setuptools>=18.5 in /usr/local/lib/python3.7/dist-packages (from ipython>=4.0.0; python_version >= \"3.3\"->ipywidgets->jupyter->d2l==0.15.1) (54.2.0)\nRequirement already satisfied: simplegeneric>0.8 in /usr/local/lib/python3.7/dist-packages (from ipython>=4.0.0; python_version >= \"3.3\"->ipywidgets->jupyter->d2l==0.15.1) (0.8.1)\nRequirement already satisfied: pickleshare in /usr/local/lib/python3.7/dist-packages (from ipython>=4.0.0; python_version >= \"3.3\"->ipywidgets->jupyter->d2l==0.15.1) (0.7.5)\nRequirement already satisfied: pexpect; sys_platform != \"win32\" in /usr/local/lib/python3.7/dist-packages (from ipython>=4.0.0; python_version >= \"3.3\"->ipywidgets->jupyter->d2l==0.15.1) (4.8.0)\nRequirement already satisfied: packaging in /usr/local/lib/python3.7/dist-packages (from bleach->nbconvert->jupyter->d2l==0.15.1) (20.9)\nRequirement already satisfied: webencodings in /usr/local/lib/python3.7/dist-packages (from bleach->nbconvert->jupyter->d2l==0.15.1) (0.5.1)\nRequirement already satisfied: MarkupSafe>=0.23 in /usr/local/lib/python3.7/dist-packages (from jinja2>=2.4->nbconvert->jupyter->d2l==0.15.1) (1.1.1)\nRequirement already satisfied: ptyprocess; os_name != \"nt\" in /usr/local/lib/python3.7/dist-packages (from terminado>=0.8.1->notebook->jupyter->d2l==0.15.1) (0.7.0)\nRequirement already satisfied: wcwidth in /usr/local/lib/python3.7/dist-packages (from prompt-toolkit<2.0.0,>=1.0.0->jupyter-console->jupyter->d2l==0.15.1) (0.2.5)\nRequirement already up-to-date: mxnet-cu101==1.7.0 in /usr/local/lib/python3.7/dist-packages (1.7.0)\nRequirement already satisfied, skipping upgrade: numpy<2.0.0,>1.16.0 in /usr/local/lib/python3.7/dist-packages (from mxnet-cu101==1.7.0) (1.19.5)\nRequirement already satisfied, skipping upgrade: requests<3,>=2.20.0 in /usr/local/lib/python3.7/dist-packages (from mxnet-cu101==1.7.0) (2.23.0)\nRequirement already satisfied, skipping upgrade: graphviz<0.9.0,>=0.8.1 in /usr/local/lib/python3.7/dist-packages (from mxnet-cu101==1.7.0) (0.8.4)\nRequirement already satisfied, skipping upgrade: certifi>=2017.4.17 in /usr/local/lib/python3.7/dist-packages (from requests<3,>=2.20.0->mxnet-cu101==1.7.0) (2020.12.5)\nRequirement already satisfied, skipping upgrade: urllib3!=1.25.0,!=1.25.1,<1.26,>=1.21.1 in /usr/local/lib/python3.7/dist-packages (from requests<3,>=2.20.0->mxnet-cu101==1.7.0) (1.24.3)\nRequirement already satisfied, skipping upgrade: chardet<4,>=3.0.2 in /usr/local/lib/python3.7/dist-packages (from requests<3,>=2.20.0->mxnet-cu101==1.7.0) (3.0.4)\nRequirement already satisfied, skipping upgrade: idna<3,>=2.5 in /usr/local/lib/python3.7/dist-packages (from requests<3,>=2.20.0->mxnet-cu101==1.7.0) (2.10)\n",
          "name": "stdout"
        }
      ]
    },
    {
      "cell_type": "markdown",
      "source": "# Residual Networks (ResNets)\n:label:`sec_resnet`\n\nAs we design increasingly deeper networks it becomes imperative to understand how adding layers can increase the complexity and expressiveness of the network.\nEven more important is the ability to design networks where adding layers makes networks strictly more expressive rather than just different.\nTo make some progress we need a bit of mathematics.\n\n\n## Function Classes\n\nConsider $\\mathcal{F}$, the class of functions that a specific network architecture (together with learning rates and other hyperparameter settings) can reach.\nThat is, for all $f \\in \\mathcal{F}$ there exists some set of parameters (e.g., weights and biases) that can be obtained through training on a suitable dataset.\nLet us assume that $f^*$ is the \"truth\" function that we really would like to find.\nIf it is in $\\mathcal{F}$, we are in good shape but typically we will not be quite so lucky.\nInstead, we will try to find some $f^*_\\mathcal{F}$ which is our best bet within $\\mathcal{F}$.\nFor instance, \ngiven a dataset with features $\\mathbf{X}$\nand labels $\\mathbf{y}$,\nwe might try finding it by solving the following optimization problem:\n\n$$f^*_\\mathcal{F} \\stackrel{\\mathrm{def}}{=} \\mathop{\\mathrm{argmin}}_f L(\\mathbf{X}, \\mathbf{y}, f) \\text{ subject to } f \\in \\mathcal{F}.$$\n\nIt is only reasonable to assume that if we design a different and more powerful architecture $\\mathcal{F}'$ we should arrive at a better outcome. In other words, we would expect that $f^*_{\\mathcal{F}'}$ is \"better\" than $f^*_{\\mathcal{F}}$. However, if $\\mathcal{F} \\not\\subseteq \\mathcal{F}'$ there is no guarantee that this should even happen. In fact, $f^*_{\\mathcal{F}'}$ might well be worse. \nAs illustrated by :numref:`fig_functionclasses`,\nfor non-nested function classes, a larger function class does not always move closer to the \"truth\" function $f^*$. For instance,\non the left of :numref:`fig_functionclasses`,\nthough $\\mathcal{F}_3$ is closer to $f^*$ than $\\mathcal{F}_1$, $\\mathcal{F}_6$ moves away and there is no guarantee that further increasing the complexity can reduce the distance from $f^*$.\nWith nested function classes\nwhere $\\mathcal{F}_1 \\subseteq \\ldots \\subseteq \\mathcal{F}_6$\non the right of :numref:`fig_functionclasses`,\nwe can avoid the aforementioned issue from the non-nested function classes.\n\n\n![For non-nested function classes, a larger (indicated by area) function class does not guarantee to get closer to the \"truth\" function ($f^*$). This does not happen in nested function classes.](http://d2l.ai/_images/functionclasses.svg)\n:label:`fig_functionclasses`\n\nThus,\nonly if larger function classes contain the smaller ones are we guaranteed that increasing them strictly increases the expressive power of the network.\nFor deep neural networks,\nif we can \ntrain the newly-added layer into an identity function $f(\\mathbf{x}) = \\mathbf{x}$, the new model will be as effective as the original model. As the new model may get a better solution to fit the training dataset, the added layer might make it easier to reduce training errors.\n\nThis is the question that He et al. considered when working on very deep computer vision models :cite:`He.Zhang.Ren.ea.2016`. \nAt the heart of their proposed *residual network* (*ResNet*) is the idea that every additional layer should \nmore easily\ncontain the identity function as one of its elements. \nThese considerations are rather profound but they led to a surprisingly simple\nsolution, a *residual block*.\nWith it, ResNet won the ImageNet Large Scale Visual Recognition Challenge in 2015. The design had a profound influence on how to\nbuild deep neural networks.\n\n\n\n## Residual Blocks\n\nLet us focus on a local part of a neural network, as depicted in :numref:`fig_residual_block`. Denote the input by $\\mathbf{x}$.\nWe assume that the desired underlying mapping we want to obtain by learning is $f(\\mathbf{x})$, to be used as the input to the activation function on the top.\nOn the left of :numref:`fig_residual_block`,\nthe portion within the dotted-line box \nmust directly learn the mapping $f(\\mathbf{x})$.\nOn the right,\nthe portion within the dotted-line box\nneeds to\nlearn the *residual mapping* $f(\\mathbf{x}) - \\mathbf{x}$,\nwhich is how the residual block derives its name.\nIf the identity mapping $f(\\mathbf{x}) = \\mathbf{x}$ is the desired underlying mapping,\nthe residual mapping is easier to learn:\nwe only need to push the weights and biases\nof the\nupper weight layer (e.g., fully-connected layer and convolutional layer)\nwithin the dotted-line box\nto zero.\nThe right figure in :numref:`fig_residual_block` illustrates the  *residual block* of ResNet,\nwhere the solid line carrying the layer input \n$\\mathbf{x}$ to the addition operator\nis called a *residual connection* (or *shortcut connection*).\nWith residual blocks, inputs can \nforward propagate faster through the residual connections across layers.\n\n![A regular block (left) and a residual block (right).](https://github.com/d2l-ai/d2l-en-colab/blob/master/img/residual-block.svg?raw=1)\n:label:`fig_residual_block`\n\n\nResNet follows VGG's full $3\\times 3$ convolutional layer design. The residual block has two $3\\times 3$ convolutional layers with the same number of output channels. Each convolutional layer is followed by a batch normalization layer and a ReLU activation function. Then, we skip these two convolution operations and add the input directly before the final ReLU activation function.\nThis kind of design requires that the output of the two convolutional layers has to be of the same shape as the input, so that they can be added together. If we want to change the number of channels, we need to introduce an additional $1\\times 1$ convolutional layer to transform the input into the desired shape for the addition operation. ",
      "metadata": {
        "origin_pos": 0,
        "id": "i6RvPIsd77Bx",
        "cell_id": "00004-b3506a41-5187-40a8-862e-b940c5d0e8dc",
        "deepnote_cell_type": "markdown"
      }
    },
    {
      "cell_type": "markdown",
      "source": "The code below generates two types of networks: one where we add the input to the output before applying the ReLU nonlinearity whenever `use_1x1conv=False`, and one where we adjust channels and resolution by means of a $1 \\times 1$ convolution before adding. :numref:`fig_resnet_block` illustrates this:\n\n![ResNet block with and without $1 \\times 1$ convolution.](https://github.com/d2l-ai/d2l-en-colab/blob/master/img/resnet-block.svg?raw=1)\n:label:`fig_resnet_block`\n",
      "metadata": {
        "origin_pos": 4,
        "id": "7jtg4SUo77B1",
        "cell_id": "00005-996d8b22-0d99-4274-935e-bad6c01c030c",
        "deepnote_cell_type": "markdown"
      }
    },
    {
      "cell_type": "markdown",
      "source": "### Exercise: Implement the figures above as the `Residual` class. \nNotes: \n1. The d2l module allows us to use utility functions developed for the Dive into Deep Learning book.\n2. MXNet's np and npx modules allow for Numpy-compatible coding, which MXNet's basic ndarray module doesn't, as [this](https://github.com/apache/incubator-mxnet/issues/14253) post illustrates. You might also find [this](https://stackoverflow.com/questions/58933738/mxnet-import-nd-or-np-to-use-arrays) Stack Overflow query helpful.\n3. [Gluon](https://mxnet.apache.org/versions/1.6/api/python/docs/api/gluon/index.html) is to MXNet as Keras is to TensorFlow.\n4. You might find the following functions useful: [`mxnet.gluon.nn.Conv2D()`](https://mxnet.apache.org/versions/1.7.0/api/python/docs/api/gluon/nn/index.html#mxnet.gluon.nn.Conv2D), [`mxnet.gluon.nn.BatchNorm()`](https://mxnet.apache.org/versions/1.7.0/api/python/docs/api/gluon/nn/index.html#mxnet.gluon.nn.BatchNorm), [`mxnet.gluon.nn.Activation()`](https://mxnet.apache.org/versions/1.7.0/api/python/docs/api/gluon/nn/index.html#mxnet.gluon.nn.Activation), [`npx.relu()`](https://mxnet.apache.org/versions/1.7.0/api/python/docs/api/ndarray/op/index.html#mxnet.ndarray.op.relu).\n",
      "metadata": {
        "id": "vMkpAKlSnYF9",
        "cell_id": "00006-bd230f3f-8d07-4bd6-9dbd-41fcbbff1307",
        "deepnote_cell_type": "markdown"
      }
    },
    {
      "cell_type": "code",
      "metadata": {
        "origin_pos": 1,
        "tab": [
          "mxnet"
        ],
        "id": "-MCesdab77By",
        "deepnote_to_be_reexecuted": false,
        "source_hash": "d54c57ca",
        "execution_millis": 31,
        "execution_start": 1618630983336,
        "cell_id": "00007-4d352c03-c3fc-4f7f-a161-842c4fed4108",
        "deepnote_cell_type": "code"
      },
      "source": "from d2l import mxnet as d2l\nfrom mxnet import np, npx\nfrom mxnet.gluon import nn\nnpx.set_np()\n\nclass Residual(nn.Block):\n    \"\"\"The Residual block of ResNet.\"\"\"\n    def __init__(\n        self, \n        num_channels, \n        use_1x1conv=False, \n        strides=1,\n        **kwargs\n        ):\n        ### START CODE HERE ###\n        super().__init__(**kwargs)\n        # Convolutional layer with num_channels output channels, kernel size of 3, \n        # and padding of 1. Pass in the strides used to instantiate the class.\n        self.conv1 = nn.Conv2D(num_channels, 3, strides=strides, padding=1)\n        # Convolutional layer like the first, but with the default stride of 1\n        self.conv2 = nn.Conv2D(num_channels, 3, strides=1, padding=1)\n        # If we're using a 1 x 1 convolution on the residual branch...\n        if use_1x1conv:\n            # Convolutional layer with num_channels output channels and kernel size of 1. \n            # Pass in the strides used to instantiate the class.\n            self.conv3 = nn.Conv2D(num_channels, 1, strides=strides)\n        else:\n            # DON'T replace the None on the next line!\n            self.conv3 = None\n        # Batch normalization. Use the default parameters. \n        self.bn1 = nn.BatchNorm()\n        # Batch normalization. Use the default parameters.\n        self.bn2 = nn.BatchNorm()\n        ### END CODE HERE ###\n\n    def forward(self, X):\n        ### START CODE HERE ###\n        # Pass the input layer through the first convolutional layer\n        Y = self.conv1(X)\n        # First batch normalization layer\n        Y = self.bn1(Y)\n        # ReLU activation\n        Y = npx.relu(Y)\n        # Second convolutional layer\n        Y = self.conv2(Y)\n        # Second batch normalization layer \n        Y = self.bn2(Y)\n        # If the third convolutional layer exists, pass the input layer through it\n        if self.conv3:\n            X = self.conv3(X)\n        # Add the two branches together, then apply a ReLU activation to the summed layer\n        return npx.relu(Y + X)\n        ### END CODE HERE ###",
      "execution_count": 153,
      "outputs": []
    },
    {
      "cell_type": "markdown",
      "source": "Now let us look at a situation where the input and output are of the same shape.",
      "metadata": {
        "id": "-Mh0gv-x2oRo",
        "cell_id": "00008-907e01c3-9cc6-47fd-a8a6-b2cd3da82ed2",
        "deepnote_cell_type": "markdown"
      }
    },
    {
      "cell_type": "code",
      "metadata": {
        "origin_pos": 5,
        "tab": [
          "mxnet"
        ],
        "id": "IScmkMsV77B1",
        "deepnote_to_be_reexecuted": false,
        "source_hash": "b25945e6",
        "execution_start": 1618630985675,
        "execution_millis": 15,
        "outputId": "79fa1aff-1007-4bfc-c584-a7111a459569",
        "colab": {
          "base_uri": "https://localhost:8080/"
        },
        "cell_id": "00009-95edec54-a9bb-400a-8507-a8c91f4a2287",
        "deepnote_cell_type": "code"
      },
      "source": "blk = Residual(3)\nblk.initialize()\nX = np.random.uniform(size=(4, 3, 6, 6))\nblk(X).shape",
      "execution_count": 154,
      "outputs": [
        {
          "output_type": "execute_result",
          "data": {
            "text/plain": "(4, 3, 6, 6)"
          },
          "metadata": {
            "tags": []
          },
          "execution_count": 154
        }
      ]
    },
    {
      "cell_type": "markdown",
      "source": "We also have the option to halve the output height and width while increasing the number of output channels.\n",
      "metadata": {
        "origin_pos": 8,
        "id": "ZSlypLnk77B4",
        "cell_id": "00010-777a6c41-95c3-4c2b-bc7d-55f93e0b90c6",
        "deepnote_cell_type": "markdown"
      }
    },
    {
      "cell_type": "code",
      "metadata": {
        "origin_pos": 9,
        "tab": [
          "mxnet"
        ],
        "id": "IJow9uXS77B5",
        "deepnote_to_be_reexecuted": false,
        "source_hash": "515b9ff",
        "execution_start": 1618630986757,
        "execution_millis": 12,
        "outputId": "1acd100d-c240-41ba-e283-717a9051c504",
        "colab": {
          "base_uri": "https://localhost:8080/"
        },
        "cell_id": "00011-ea808990-4391-4dde-b3c7-ffd3308a8ab5",
        "deepnote_cell_type": "code"
      },
      "source": "blk = Residual(6, use_1x1conv=True, strides=2)\nblk.initialize()\nblk(X).shape",
      "execution_count": 155,
      "outputs": [
        {
          "output_type": "execute_result",
          "data": {
            "text/plain": "(4, 6, 3, 3)"
          },
          "metadata": {
            "tags": []
          },
          "execution_count": 155
        }
      ]
    },
    {
      "cell_type": "markdown",
      "source": "## ResNet Model\n\n### Exercise: Instantiate the ResNet model with Gluon's [`nn.Sequential()`](https://mxnet.apache.org/versions/1.7.0/api/python/docs/api/gluon/nn/index.html#mxnet.gluon.nn.Sequential) API, then add to the model as follows: \n\nThe first two layers of ResNet are the same as those of GoogLeNet: the $7\\times 7$ convolutional layer with 64 output channels and a stride of 2 is followed by the $3\\times 3$ maximum pooling layer with a stride of 2. The difference is the batch normalization layer added after each convolutional layer in ResNet.\n\nYou may find Gluon's [`nn.Activation()`](https://mxnet.apache.org/versions/1.7.0/api/python/docs/api/gluon/nn/index.html#mxnet.gluon.nn.Activation) and [`nn.MaxPool2D()`](https://mxnet.apache.org/versions/1.7.0/api/python/docs/api/gluon/nn/index.html#mxnet.gluon.nn.MaxPool2D) useful.\n",
      "metadata": {
        "origin_pos": 12,
        "id": "v9UMmyCE77B7",
        "cell_id": "00012-6141f158-4e2c-4d1a-a564-51be0dac82f7",
        "deepnote_cell_type": "markdown"
      }
    },
    {
      "cell_type": "code",
      "metadata": {
        "origin_pos": 13,
        "tab": [
          "mxnet"
        ],
        "id": "XSyCeayC77B8",
        "cell_id": "00013-ffd80907-e04f-4f1e-bb51-963d84d3eaa6",
        "deepnote_cell_type": "code"
      },
      "source": "### START CODE HERE ###\n# Instantiate the model\nnet = nn.Sequential()\n# Start adding to the model\nnet.add(# Convolutional layer\n        nn.Conv2D(64, kernel_size=7, strides=2, padding=3),\n        # Batch normalization\n        nn.BatchNorm(), \n        # ReLU activation\n        nn.Activation(\"relu\"),\n        # Max pooling\n        nn.MaxPool2D(pool_size=3, strides=2, padding=1)\n)\n### END CODE HERE ###",
      "execution_count": 167,
      "outputs": []
    },
    {
      "cell_type": "markdown",
      "source": "GoogLeNet uses four modules made up of Inception blocks.\nHowever, ResNet uses four modules made up of residual blocks, each of which uses several residual blocks with the same number of output channels. \nThe number of channels in the first module is the same as the number of input channels. Since a maximum pooling layer with a stride of 2 has already been used, it is not necessary to reduce the height and width. In the first residual block for each of the subsequent modules, the number of channels is doubled compared with that of the previous module, and the height and width are halved.\n\nNow, we implement this module. Note that special processing has been performed on the first module.\n",
      "metadata": {
        "origin_pos": 16,
        "id": "InGdMxtV77B_",
        "cell_id": "00014-cee90a65-824a-41fc-8114-6054e1b65929",
        "deepnote_cell_type": "markdown"
      }
    },
    {
      "cell_type": "markdown",
      "source": "### Exercise: Build a function which wraps around a `Residual` block as defined earlier. Make use of the `nn.Sequential()` API and the `add()` method for MXNet models. Give the first block all possible default arguments.",
      "metadata": {
        "id": "LX07kZHKNE1t",
        "cell_id": "00015-ec5c0419-5c94-4021-8443-ab55c27d72e1",
        "deepnote_cell_type": "markdown"
      }
    },
    {
      "cell_type": "code",
      "metadata": {
        "origin_pos": 17,
        "tab": [
          "mxnet"
        ],
        "id": "r79QAAS277B_",
        "cell_id": "00016-ebc708f8-3d5e-4963-b22c-bd277b251334",
        "deepnote_cell_type": "code"
      },
      "source": "def resnet_block(num_channels, num_residuals, first_block=False):\n    ### START CODE HERE ###\n    # Initialize the ResNet block\n    blk = nn.Sequential()\n    # Iterate through the residual sub-blocks\n    for i in range(num_residuals):\n        # If this is the first sub-block but NOT the first ResNet block of the whole model...\n        if i == 0 and first_block is False:\n            # Add a residual sub-block with num_channels output channels, \n            # 1 x 1 convolutions, and a stride of 2\n            blk.add(Residual(num_channels, use_1x1conv=True, strides=2))\n        else:\n            # If not, add a residual sub-block with num_channels output channels \n            # and otherwise default arguments\n            blk.add(Residual(num_channels))\n    # Return the ResNet block\n    return blk\n    ### END CODE HERE ###",
      "execution_count": 168,
      "outputs": []
    },
    {
      "cell_type": "markdown",
      "source": "Then, we add all the modules to ResNet. Here, two residual blocks are used for each module.\n",
      "metadata": {
        "origin_pos": 20,
        "id": "HdwX7M9d77CE",
        "cell_id": "00017-1f5a9912-9270-4aaf-96cf-2763c2b182f8",
        "deepnote_cell_type": "markdown"
      }
    },
    {
      "cell_type": "markdown",
      "source": "### Exercise: Add 4 ResNet blocks to the model, with 64, 128, 256, and 512 respective output channels, and each with 2 sub-blocks. Don't forget about the `first_block` parameter!",
      "metadata": {
        "id": "o_onPSdRvWNR",
        "cell_id": "00018-72e9f15e-daf8-45fe-9cfc-a6d14bf6660f",
        "deepnote_cell_type": "markdown"
      }
    },
    {
      "cell_type": "code",
      "metadata": {
        "origin_pos": 21,
        "tab": [
          "mxnet"
        ],
        "id": "cLY4Gyv377CF",
        "cell_id": "00019-948c6280-cf52-42a7-99c5-dedd541079e1",
        "deepnote_cell_type": "code"
      },
      "source": "### START CODE HERE ###\nnet.add(\n    resnet_block(64, 2, first_block=True),\n    resnet_block(128, 2, first_block=False),\n    resnet_block(256, 2, first_block=False),\n    resnet_block(512, 2, first_block=False)\n    )\n### END CODE HERE ###",
      "execution_count": 169,
      "outputs": []
    },
    {
      "cell_type": "markdown",
      "source": "### Exercise: Finally, just like GoogLeNet, we add a global average pooling layer, followed by the fully-connected layer output.\n",
      "metadata": {
        "origin_pos": 24,
        "id": "HvYuXVWd77CK",
        "cell_id": "00020-335e18f0-3f75-4c62-8c6f-d2ca1d251a8b",
        "deepnote_cell_type": "markdown"
      }
    },
    {
      "cell_type": "code",
      "metadata": {
        "origin_pos": 25,
        "tab": [
          "mxnet"
        ],
        "id": "dx2kUaB877CK",
        "cell_id": "00021-fb6f6fe6-4b28-4d19-9978-7d25c420bb04",
        "deepnote_cell_type": "code"
      },
      "source": "### START CODE HERE ###\nnet.add(\n    nn.GlobalAvgPool2D(),\n    nn.Dense(10)\n    )\n\n### END CODE HERE ###",
      "execution_count": 170,
      "outputs": []
    },
    {
      "cell_type": "markdown",
      "source": "There are 4 convolutional layers in each module (excluding the $1\\times 1$ convolutional layer). Together with the first $7\\times 7$ convolutional layer and the final fully-connected layer, there are 18 layers in total. Therefore, this model is commonly known as ResNet-18.\nBy configuring different numbers of channels and residual blocks in the module, we can create different ResNet models, such as the deeper 152-layer ResNet-152. Although the main architecture of ResNet is similar to that of GoogLeNet, ResNet's structure is simpler and easier to modify. All these factors have resulted in the rapid and widespread use of ResNet. :numref:`fig_resnet18` depicts the full ResNet-18.\n\n![The ResNet-18 architecture.](http://d2l.ai/_images/resnet18.svg)\n:label:`fig_resnet18`\n",
      "metadata": {
        "origin_pos": 28,
        "id": "4ibpfSd977CN",
        "cell_id": "00022-ee2d1a18-a429-433b-bb29-52938985cf1a",
        "deepnote_cell_type": "markdown"
      }
    },
    {
      "cell_type": "markdown",
      "source": "### Exercise: Before training ResNet, let us observe how the input shape changes across different modules in ResNet. As in all the previous architectures, the resolution decreases while the number of channels increases up until the point where a global average pooling layer aggregates all features. Print the output shape of each module in the model.",
      "metadata": {
        "id": "v4sBmWZc1INk",
        "cell_id": "00023-bd86f79c-c515-46f6-853f-73dbf48e742b",
        "deepnote_cell_type": "markdown"
      }
    },
    {
      "cell_type": "code",
      "metadata": {
        "origin_pos": 29,
        "tab": [
          "mxnet"
        ],
        "id": "CbXajIRG77CN",
        "outputId": "8673634c-68e4-4373-a0a5-f1fcd2a95491",
        "colab": {
          "base_uri": "https://localhost:8080/"
        },
        "cell_id": "00024-bf551d2b-7330-44f8-a7d7-f8f0cf23833c",
        "deepnote_cell_type": "code"
      },
      "source": "# Initialize the input with a random array\nX = np.random.uniform(size=(1, 1, 224, 224))\n# Initialize the model\nnet.initialize()\n### START CODE HERE ###\n# Loop over the layers in the model\nfor layer in net:\n    # Apply the current layer to its input or the output of the previous layer\n    X = layer(X)\n    # Print the current layer's name and the output's shape\n    print(layer.name, 'output shape:\\t', X.shape)\n### END CODE HERE ###",
      "execution_count": 171,
      "outputs": [
        {
          "output_type": "stream",
          "text": "conv455 output shape:\t (1, 64, 112, 112)\nbatchnorm408 output shape:\t (1, 64, 112, 112)\nrelu20 output shape:\t (1, 64, 112, 112)\npool40 output shape:\t (1, 64, 56, 56)\nsequential101 output shape:\t (1, 64, 56, 56)\nsequential102 output shape:\t (1, 128, 28, 28)\nsequential103 output shape:\t (1, 256, 14, 14)\nsequential104 output shape:\t (1, 512, 7, 7)\npool41 output shape:\t (1, 512, 1, 1)\ndense20 output shape:\t (1, 10)\n",
          "name": "stdout"
        }
      ]
    },
    {
      "cell_type": "markdown",
      "source": "### Expected Output: \n```\nconv5 output shape:\t (1, 64, 112, 112)\nbatchnorm4 output shape:\t (1, 64, 112, 112)\nrelu0 output shape:\t (1, 64, 112, 112)\npool0 output shape:\t (1, 64, 56, 56)\nsequential1 output shape:\t (1, 64, 56, 56)\nsequential2 output shape:\t (1, 128, 28, 28)\nsequential3 output shape:\t (1, 256, 14, 14)\nsequential4 output shape:\t (1, 512, 7, 7)\npool1 output shape:\t (1, 512, 1, 1)\ndense0 output shape:\t (1, 10)\n```",
      "metadata": {
        "id": "6EY59nfUzrJe",
        "cell_id": "00025-8c26e509-af0f-4599-8446-4bc6169f57f4",
        "deepnote_cell_type": "markdown"
      }
    },
    {
      "cell_type": "markdown",
      "source": "### Exercise: For a more detailed look, use the model's [`summary()`](https://mxnet.apache.org/versions/1.7.0/api/python/docs/api/gluon/block.html#mxnet.gluon.Block.summary) method",
      "metadata": {
        "id": "5Mg6T7Tx2XQz",
        "cell_id": "00026-270ea045-661d-43fd-8c4b-5edbc73b40b7",
        "deepnote_cell_type": "markdown"
      }
    },
    {
      "cell_type": "code",
      "metadata": {
        "id": "Mab_Fgd3z0eg",
        "outputId": "3e210c24-e37d-4cfe-de7b-93c244abf27a",
        "colab": {
          "base_uri": "https://localhost:8080/"
        },
        "cell_id": "00027-8bf0d104-d6b2-4d9a-a66f-bd4a71948743",
        "deepnote_cell_type": "code"
      },
      "source": "### START CODE HERE ###\n# Initialize the input, consisting of 1 example, 1 output channel, and a pixel height and width of 224\nX = np.random.uniform(size=(1, 1, 224, 224))\n# Reinitialize the model\n# HINT: Use the force_reinit parameter\nnet.initialize(force_reinit=True)\n# Summarize the model\nnet.summary(X)\n### END CODE HERE ###",
      "execution_count": 176,
      "outputs": [
        {
          "output_type": "stream",
          "text": "--------------------------------------------------------------------------------\n        Layer (type)                                Output Shape         Param #\n================================================================================\n               Input                            (1, 1, 224, 224)               0\n            Conv2D-1                           (1, 64, 112, 112)            3200\n         BatchNorm-2                           (1, 64, 112, 112)             256\n        Activation-3                           (1, 64, 112, 112)               0\n         MaxPool2D-4                             (1, 64, 56, 56)               0\n            Conv2D-5                             (1, 64, 56, 56)           36928\n         BatchNorm-6                             (1, 64, 56, 56)             256\n            Conv2D-7                             (1, 64, 56, 56)           36928\n         BatchNorm-8                             (1, 64, 56, 56)             256\n          Residual-9                             (1, 64, 56, 56)               0\n           Conv2D-10                             (1, 64, 56, 56)           36928\n        BatchNorm-11                             (1, 64, 56, 56)             256\n           Conv2D-12                             (1, 64, 56, 56)           36928\n        BatchNorm-13                             (1, 64, 56, 56)             256\n         Residual-14                             (1, 64, 56, 56)               0\n           Conv2D-15                            (1, 128, 28, 28)           73856\n        BatchNorm-16                            (1, 128, 28, 28)             512\n           Conv2D-17                            (1, 128, 28, 28)          147584\n        BatchNorm-18                            (1, 128, 28, 28)             512\n           Conv2D-19                            (1, 128, 28, 28)            8320\n         Residual-20                            (1, 128, 28, 28)               0\n           Conv2D-21                            (1, 128, 28, 28)          147584\n        BatchNorm-22                            (1, 128, 28, 28)             512\n           Conv2D-23                            (1, 128, 28, 28)          147584\n        BatchNorm-24                            (1, 128, 28, 28)             512\n         Residual-25                            (1, 128, 28, 28)               0\n           Conv2D-26                            (1, 256, 14, 14)          295168\n        BatchNorm-27                            (1, 256, 14, 14)            1024\n           Conv2D-28                            (1, 256, 14, 14)          590080\n        BatchNorm-29                            (1, 256, 14, 14)            1024\n           Conv2D-30                            (1, 256, 14, 14)           33024\n         Residual-31                            (1, 256, 14, 14)               0\n           Conv2D-32                            (1, 256, 14, 14)          590080\n        BatchNorm-33                            (1, 256, 14, 14)            1024\n           Conv2D-34                            (1, 256, 14, 14)          590080\n        BatchNorm-35                            (1, 256, 14, 14)            1024\n         Residual-36                            (1, 256, 14, 14)               0\n           Conv2D-37                              (1, 512, 7, 7)         1180160\n        BatchNorm-38                              (1, 512, 7, 7)            2048\n           Conv2D-39                              (1, 512, 7, 7)         2359808\n        BatchNorm-40                              (1, 512, 7, 7)            2048\n           Conv2D-41                              (1, 512, 7, 7)          131584\n         Residual-42                              (1, 512, 7, 7)               0\n           Conv2D-43                              (1, 512, 7, 7)         2359808\n        BatchNorm-44                              (1, 512, 7, 7)            2048\n           Conv2D-45                              (1, 512, 7, 7)         2359808\n        BatchNorm-46                              (1, 512, 7, 7)            2048\n         Residual-47                              (1, 512, 7, 7)               0\n  GlobalAvgPool2D-48                              (1, 512, 1, 1)               0\n            Dense-49                                     (1, 10)            5130\n================================================================================\nParameters in forward computation graph, duplicate included\n   Total params: 11186186\n   Trainable params: 11178378\n   Non-trainable params: 7808\nShared params in forward computation graph: 0\nUnique parameters in model: 11186186\n--------------------------------------------------------------------------------\n",
          "name": "stdout"
        }
      ]
    },
    {
      "cell_type": "markdown",
      "source": "### Expected Output: \n```\n--------------------------------------------------------------------------------\n        Layer (type)                                Output Shape         Param #\n================================================================================\n               Input                            (1, 1, 224, 224)               0\n            Conv2D-1                           (1, 64, 112, 112)            3200\n         BatchNorm-2                           (1, 64, 112, 112)             256\n        Activation-3                           (1, 64, 112, 112)               0\n         MaxPool2D-4                             (1, 64, 56, 56)               0\n            Conv2D-5                             (1, 64, 56, 56)           36928\n         BatchNorm-6                             (1, 64, 56, 56)             256\n            Conv2D-7                             (1, 64, 56, 56)           36928\n         BatchNorm-8                             (1, 64, 56, 56)             256\n          Residual-9                             (1, 64, 56, 56)               0\n           Conv2D-10                             (1, 64, 56, 56)           36928\n        BatchNorm-11                             (1, 64, 56, 56)             256\n           Conv2D-12                             (1, 64, 56, 56)           36928\n        BatchNorm-13                             (1, 64, 56, 56)             256\n         Residual-14                             (1, 64, 56, 56)               0\n           Conv2D-15                            (1, 128, 28, 28)           73856\n        BatchNorm-16                            (1, 128, 28, 28)             512\n           Conv2D-17                            (1, 128, 28, 28)          147584\n        BatchNorm-18                            (1, 128, 28, 28)             512\n           Conv2D-19                            (1, 128, 28, 28)            8320\n         Residual-20                            (1, 128, 28, 28)               0\n           Conv2D-21                            (1, 128, 28, 28)          147584\n        BatchNorm-22                            (1, 128, 28, 28)             512\n           Conv2D-23                            (1, 128, 28, 28)          147584\n        BatchNorm-24                            (1, 128, 28, 28)             512\n         Residual-25                            (1, 128, 28, 28)               0\n           Conv2D-26                            (1, 256, 14, 14)          295168\n        BatchNorm-27                            (1, 256, 14, 14)            1024\n           Conv2D-28                            (1, 256, 14, 14)          590080\n        BatchNorm-29                            (1, 256, 14, 14)            1024\n           Conv2D-30                            (1, 256, 14, 14)           33024\n         Residual-31                            (1, 256, 14, 14)               0\n           Conv2D-32                            (1, 256, 14, 14)          590080\n        BatchNorm-33                            (1, 256, 14, 14)            1024\n           Conv2D-34                            (1, 256, 14, 14)          590080\n        BatchNorm-35                            (1, 256, 14, 14)            1024\n         Residual-36                            (1, 256, 14, 14)               0\n           Conv2D-37                              (1, 512, 7, 7)         1180160\n        BatchNorm-38                              (1, 512, 7, 7)            2048\n           Conv2D-39                              (1, 512, 7, 7)         2359808\n        BatchNorm-40                              (1, 512, 7, 7)            2048\n           Conv2D-41                              (1, 512, 7, 7)          131584\n         Residual-42                              (1, 512, 7, 7)               0\n           Conv2D-43                              (1, 512, 7, 7)         2359808\n        BatchNorm-44                              (1, 512, 7, 7)            2048\n           Conv2D-45                              (1, 512, 7, 7)         2359808\n        BatchNorm-46                              (1, 512, 7, 7)            2048\n         Residual-47                              (1, 512, 7, 7)               0\n  GlobalAvgPool2D-48                              (1, 512, 1, 1)               0\n            Dense-49                                     (1, 10)            5130\n================================================================================\nParameters in forward computation graph, duplicate included\n   Total params: 11186186\n   Trainable params: 11178378\n   Non-trainable params: 7808\nShared params in forward computation graph: 0\nUnique parameters in model: 11186186\n--------------------------------------------------------------------------------\n```",
      "metadata": {
        "id": "E18i4zci5DKD",
        "cell_id": "00028-d98fdb9b-5b9c-4957-adaf-d4aaaf5c4dc8",
        "deepnote_cell_type": "markdown"
      }
    },
    {
      "cell_type": "markdown",
      "source": "## Training\n\n### Train the ResNet on the Fashion-MNIST dataset. Notes: \n1. This process takes approximately 8 minutes when running a Colab on a single GPU \n2. The next cell uses utility functions developed for the Dive into Deep Learning (d2l) book\n",
      "metadata": {
        "origin_pos": 32,
        "id": "t4VsaGCD77CQ",
        "cell_id": "00029-1f3776a4-5a26-48fa-9825-a15cddd6c598",
        "deepnote_cell_type": "markdown"
      }
    },
    {
      "cell_type": "code",
      "metadata": {
        "origin_pos": 33,
        "tab": [
          "mxnet"
        ],
        "id": "VBaUlpeS77CR",
        "outputId": "e2fec872-b8a9-47e0-eb26-c1225ee4d12c",
        "colab": {
          "base_uri": "https://localhost:8080/",
          "height": 296
        },
        "cell_id": "00030-6feac244-4468-4fa1-ba13-391173aa010d",
        "deepnote_cell_type": "code"
      },
      "source": "lr, num_epochs, batch_size = 0.05, 10, 256\ntrain_iter, test_iter = d2l.load_data_fashion_mnist(batch_size, resize=96)\nd2l.train_ch6(net, train_iter, test_iter, num_epochs, lr)",
      "execution_count": 177,
      "outputs": [
        {
          "output_type": "stream",
          "text": "loss 0.013, train acc 0.997, test acc 0.925\n1588.6 examples/sec on gpu(0)\n",
          "name": "stdout"
        },
        {
          "output_type": "display_data",
          "data": {
            "text/plain": "<Figure size 252x180 with 1 Axes>",
            "image/svg+xml": "<?xml version=\"1.0\" encoding=\"utf-8\" standalone=\"no\"?>\n<!DOCTYPE svg PUBLIC \"-//W3C//DTD SVG 1.1//EN\"\n  \"http://www.w3.org/Graphics/SVG/1.1/DTD/svg11.dtd\">\n<!-- Created with matplotlib (https://matplotlib.org/) -->\n<svg height=\"180.65625pt\" version=\"1.1\" viewBox=\"0 0 238.965625 180.65625\" width=\"238.965625pt\" xmlns=\"http://www.w3.org/2000/svg\" xmlns:xlink=\"http://www.w3.org/1999/xlink\">\n <defs>\n  <style type=\"text/css\">\n*{stroke-linecap:butt;stroke-linejoin:round;}\n  </style>\n </defs>\n <g id=\"figure_1\">\n  <g id=\"patch_1\">\n   <path d=\"M 0 180.65625 \nL 238.965625 180.65625 \nL 238.965625 0 \nL 0 0 \nz\n\" style=\"fill:none;\"/>\n  </g>\n  <g id=\"axes_1\">\n   <g id=\"patch_2\">\n    <path d=\"M 30.103125 143.1 \nL 225.403125 143.1 \nL 225.403125 7.2 \nL 30.103125 7.2 \nz\n\" style=\"fill:#ffffff;\"/>\n   </g>\n   <g id=\"matplotlib.axis_1\">\n    <g id=\"xtick_1\">\n     <g id=\"line2d_1\">\n      <path clip-path=\"url(#p49c2ce7dbb)\" d=\"M 51.803125 143.1 \nL 51.803125 7.2 \n\" style=\"fill:none;stroke:#b0b0b0;stroke-linecap:square;stroke-width:0.8;\"/>\n     </g>\n     <g id=\"line2d_2\">\n      <defs>\n       <path d=\"M 0 0 \nL 0 3.5 \n\" id=\"m5c5c094335\" style=\"stroke:#000000;stroke-width:0.8;\"/>\n      </defs>\n      <g>\n       <use style=\"stroke:#000000;stroke-width:0.8;\" x=\"51.803125\" xlink:href=\"#m5c5c094335\" y=\"143.1\"/>\n      </g>\n     </g>\n     <g id=\"text_1\">\n      <!-- 2 -->\n      <defs>\n       <path d=\"M 19.1875 8.296875 \nL 53.609375 8.296875 \nL 53.609375 0 \nL 7.328125 0 \nL 7.328125 8.296875 \nQ 12.9375 14.109375 22.625 23.890625 \nQ 32.328125 33.6875 34.8125 36.53125 \nQ 39.546875 41.84375 41.421875 45.53125 \nQ 43.3125 49.21875 43.3125 52.78125 \nQ 43.3125 58.59375 39.234375 62.25 \nQ 35.15625 65.921875 28.609375 65.921875 \nQ 23.96875 65.921875 18.8125 64.3125 \nQ 13.671875 62.703125 7.8125 59.421875 \nL 7.8125 69.390625 \nQ 13.765625 71.78125 18.9375 73 \nQ 24.125 74.21875 28.421875 74.21875 \nQ 39.75 74.21875 46.484375 68.546875 \nQ 53.21875 62.890625 53.21875 53.421875 \nQ 53.21875 48.921875 51.53125 44.890625 \nQ 49.859375 40.875 45.40625 35.40625 \nQ 44.1875 33.984375 37.640625 27.21875 \nQ 31.109375 20.453125 19.1875 8.296875 \nz\n\" id=\"DejaVuSans-50\"/>\n      </defs>\n      <g transform=\"translate(48.621875 157.698438)scale(0.1 -0.1)\">\n       <use xlink:href=\"#DejaVuSans-50\"/>\n      </g>\n     </g>\n    </g>\n    <g id=\"xtick_2\">\n     <g id=\"line2d_3\">\n      <path clip-path=\"url(#p49c2ce7dbb)\" d=\"M 95.203125 143.1 \nL 95.203125 7.2 \n\" style=\"fill:none;stroke:#b0b0b0;stroke-linecap:square;stroke-width:0.8;\"/>\n     </g>\n     <g id=\"line2d_4\">\n      <g>\n       <use style=\"stroke:#000000;stroke-width:0.8;\" x=\"95.203125\" xlink:href=\"#m5c5c094335\" y=\"143.1\"/>\n      </g>\n     </g>\n     <g id=\"text_2\">\n      <!-- 4 -->\n      <defs>\n       <path d=\"M 37.796875 64.3125 \nL 12.890625 25.390625 \nL 37.796875 25.390625 \nz\nM 35.203125 72.90625 \nL 47.609375 72.90625 \nL 47.609375 25.390625 \nL 58.015625 25.390625 \nL 58.015625 17.1875 \nL 47.609375 17.1875 \nL 47.609375 0 \nL 37.796875 0 \nL 37.796875 17.1875 \nL 4.890625 17.1875 \nL 4.890625 26.703125 \nz\n\" id=\"DejaVuSans-52\"/>\n      </defs>\n      <g transform=\"translate(92.021875 157.698438)scale(0.1 -0.1)\">\n       <use xlink:href=\"#DejaVuSans-52\"/>\n      </g>\n     </g>\n    </g>\n    <g id=\"xtick_3\">\n     <g id=\"line2d_5\">\n      <path clip-path=\"url(#p49c2ce7dbb)\" d=\"M 138.603125 143.1 \nL 138.603125 7.2 \n\" style=\"fill:none;stroke:#b0b0b0;stroke-linecap:square;stroke-width:0.8;\"/>\n     </g>\n     <g id=\"line2d_6\">\n      <g>\n       <use style=\"stroke:#000000;stroke-width:0.8;\" x=\"138.603125\" xlink:href=\"#m5c5c094335\" y=\"143.1\"/>\n      </g>\n     </g>\n     <g id=\"text_3\">\n      <!-- 6 -->\n      <defs>\n       <path d=\"M 33.015625 40.375 \nQ 26.375 40.375 22.484375 35.828125 \nQ 18.609375 31.296875 18.609375 23.390625 \nQ 18.609375 15.53125 22.484375 10.953125 \nQ 26.375 6.390625 33.015625 6.390625 \nQ 39.65625 6.390625 43.53125 10.953125 \nQ 47.40625 15.53125 47.40625 23.390625 \nQ 47.40625 31.296875 43.53125 35.828125 \nQ 39.65625 40.375 33.015625 40.375 \nz\nM 52.59375 71.296875 \nL 52.59375 62.3125 \nQ 48.875 64.0625 45.09375 64.984375 \nQ 41.3125 65.921875 37.59375 65.921875 \nQ 27.828125 65.921875 22.671875 59.328125 \nQ 17.53125 52.734375 16.796875 39.40625 \nQ 19.671875 43.65625 24.015625 45.921875 \nQ 28.375 48.1875 33.59375 48.1875 \nQ 44.578125 48.1875 50.953125 41.515625 \nQ 57.328125 34.859375 57.328125 23.390625 \nQ 57.328125 12.15625 50.6875 5.359375 \nQ 44.046875 -1.421875 33.015625 -1.421875 \nQ 20.359375 -1.421875 13.671875 8.265625 \nQ 6.984375 17.96875 6.984375 36.375 \nQ 6.984375 53.65625 15.1875 63.9375 \nQ 23.390625 74.21875 37.203125 74.21875 \nQ 40.921875 74.21875 44.703125 73.484375 \nQ 48.484375 72.75 52.59375 71.296875 \nz\n\" id=\"DejaVuSans-54\"/>\n      </defs>\n      <g transform=\"translate(135.421875 157.698438)scale(0.1 -0.1)\">\n       <use xlink:href=\"#DejaVuSans-54\"/>\n      </g>\n     </g>\n    </g>\n    <g id=\"xtick_4\">\n     <g id=\"line2d_7\">\n      <path clip-path=\"url(#p49c2ce7dbb)\" d=\"M 182.003125 143.1 \nL 182.003125 7.2 \n\" style=\"fill:none;stroke:#b0b0b0;stroke-linecap:square;stroke-width:0.8;\"/>\n     </g>\n     <g id=\"line2d_8\">\n      <g>\n       <use style=\"stroke:#000000;stroke-width:0.8;\" x=\"182.003125\" xlink:href=\"#m5c5c094335\" y=\"143.1\"/>\n      </g>\n     </g>\n     <g id=\"text_4\">\n      <!-- 8 -->\n      <defs>\n       <path d=\"M 31.78125 34.625 \nQ 24.75 34.625 20.71875 30.859375 \nQ 16.703125 27.09375 16.703125 20.515625 \nQ 16.703125 13.921875 20.71875 10.15625 \nQ 24.75 6.390625 31.78125 6.390625 \nQ 38.8125 6.390625 42.859375 10.171875 \nQ 46.921875 13.96875 46.921875 20.515625 \nQ 46.921875 27.09375 42.890625 30.859375 \nQ 38.875 34.625 31.78125 34.625 \nz\nM 21.921875 38.8125 \nQ 15.578125 40.375 12.03125 44.71875 \nQ 8.5 49.078125 8.5 55.328125 \nQ 8.5 64.0625 14.71875 69.140625 \nQ 20.953125 74.21875 31.78125 74.21875 \nQ 42.671875 74.21875 48.875 69.140625 \nQ 55.078125 64.0625 55.078125 55.328125 \nQ 55.078125 49.078125 51.53125 44.71875 \nQ 48 40.375 41.703125 38.8125 \nQ 48.828125 37.15625 52.796875 32.3125 \nQ 56.78125 27.484375 56.78125 20.515625 \nQ 56.78125 9.90625 50.3125 4.234375 \nQ 43.84375 -1.421875 31.78125 -1.421875 \nQ 19.734375 -1.421875 13.25 4.234375 \nQ 6.78125 9.90625 6.78125 20.515625 \nQ 6.78125 27.484375 10.78125 32.3125 \nQ 14.796875 37.15625 21.921875 38.8125 \nz\nM 18.3125 54.390625 \nQ 18.3125 48.734375 21.84375 45.5625 \nQ 25.390625 42.390625 31.78125 42.390625 \nQ 38.140625 42.390625 41.71875 45.5625 \nQ 45.3125 48.734375 45.3125 54.390625 \nQ 45.3125 60.0625 41.71875 63.234375 \nQ 38.140625 66.40625 31.78125 66.40625 \nQ 25.390625 66.40625 21.84375 63.234375 \nQ 18.3125 60.0625 18.3125 54.390625 \nz\n\" id=\"DejaVuSans-56\"/>\n      </defs>\n      <g transform=\"translate(178.821875 157.698438)scale(0.1 -0.1)\">\n       <use xlink:href=\"#DejaVuSans-56\"/>\n      </g>\n     </g>\n    </g>\n    <g id=\"xtick_5\">\n     <g id=\"line2d_9\">\n      <path clip-path=\"url(#p49c2ce7dbb)\" d=\"M 225.403125 143.1 \nL 225.403125 7.2 \n\" style=\"fill:none;stroke:#b0b0b0;stroke-linecap:square;stroke-width:0.8;\"/>\n     </g>\n     <g id=\"line2d_10\">\n      <g>\n       <use style=\"stroke:#000000;stroke-width:0.8;\" x=\"225.403125\" xlink:href=\"#m5c5c094335\" y=\"143.1\"/>\n      </g>\n     </g>\n     <g id=\"text_5\">\n      <!-- 10 -->\n      <defs>\n       <path d=\"M 12.40625 8.296875 \nL 28.515625 8.296875 \nL 28.515625 63.921875 \nL 10.984375 60.40625 \nL 10.984375 69.390625 \nL 28.421875 72.90625 \nL 38.28125 72.90625 \nL 38.28125 8.296875 \nL 54.390625 8.296875 \nL 54.390625 0 \nL 12.40625 0 \nz\n\" id=\"DejaVuSans-49\"/>\n       <path d=\"M 31.78125 66.40625 \nQ 24.171875 66.40625 20.328125 58.90625 \nQ 16.5 51.421875 16.5 36.375 \nQ 16.5 21.390625 20.328125 13.890625 \nQ 24.171875 6.390625 31.78125 6.390625 \nQ 39.453125 6.390625 43.28125 13.890625 \nQ 47.125 21.390625 47.125 36.375 \nQ 47.125 51.421875 43.28125 58.90625 \nQ 39.453125 66.40625 31.78125 66.40625 \nz\nM 31.78125 74.21875 \nQ 44.046875 74.21875 50.515625 64.515625 \nQ 56.984375 54.828125 56.984375 36.375 \nQ 56.984375 17.96875 50.515625 8.265625 \nQ 44.046875 -1.421875 31.78125 -1.421875 \nQ 19.53125 -1.421875 13.0625 8.265625 \nQ 6.59375 17.96875 6.59375 36.375 \nQ 6.59375 54.828125 13.0625 64.515625 \nQ 19.53125 74.21875 31.78125 74.21875 \nz\n\" id=\"DejaVuSans-48\"/>\n      </defs>\n      <g transform=\"translate(219.040625 157.698438)scale(0.1 -0.1)\">\n       <use xlink:href=\"#DejaVuSans-49\"/>\n       <use x=\"63.623047\" xlink:href=\"#DejaVuSans-48\"/>\n      </g>\n     </g>\n    </g>\n    <g id=\"text_6\">\n     <!-- epoch -->\n     <defs>\n      <path d=\"M 56.203125 29.59375 \nL 56.203125 25.203125 \nL 14.890625 25.203125 \nQ 15.484375 15.921875 20.484375 11.0625 \nQ 25.484375 6.203125 34.421875 6.203125 \nQ 39.59375 6.203125 44.453125 7.46875 \nQ 49.3125 8.734375 54.109375 11.28125 \nL 54.109375 2.78125 \nQ 49.265625 0.734375 44.1875 -0.34375 \nQ 39.109375 -1.421875 33.890625 -1.421875 \nQ 20.796875 -1.421875 13.15625 6.1875 \nQ 5.515625 13.8125 5.515625 26.8125 \nQ 5.515625 40.234375 12.765625 48.109375 \nQ 20.015625 56 32.328125 56 \nQ 43.359375 56 49.78125 48.890625 \nQ 56.203125 41.796875 56.203125 29.59375 \nz\nM 47.21875 32.234375 \nQ 47.125 39.59375 43.09375 43.984375 \nQ 39.0625 48.390625 32.421875 48.390625 \nQ 24.90625 48.390625 20.390625 44.140625 \nQ 15.875 39.890625 15.1875 32.171875 \nz\n\" id=\"DejaVuSans-101\"/>\n      <path d=\"M 18.109375 8.203125 \nL 18.109375 -20.796875 \nL 9.078125 -20.796875 \nL 9.078125 54.6875 \nL 18.109375 54.6875 \nL 18.109375 46.390625 \nQ 20.953125 51.265625 25.265625 53.625 \nQ 29.59375 56 35.59375 56 \nQ 45.5625 56 51.78125 48.09375 \nQ 58.015625 40.1875 58.015625 27.296875 \nQ 58.015625 14.40625 51.78125 6.484375 \nQ 45.5625 -1.421875 35.59375 -1.421875 \nQ 29.59375 -1.421875 25.265625 0.953125 \nQ 20.953125 3.328125 18.109375 8.203125 \nz\nM 48.6875 27.296875 \nQ 48.6875 37.203125 44.609375 42.84375 \nQ 40.53125 48.484375 33.40625 48.484375 \nQ 26.265625 48.484375 22.1875 42.84375 \nQ 18.109375 37.203125 18.109375 27.296875 \nQ 18.109375 17.390625 22.1875 11.75 \nQ 26.265625 6.109375 33.40625 6.109375 \nQ 40.53125 6.109375 44.609375 11.75 \nQ 48.6875 17.390625 48.6875 27.296875 \nz\n\" id=\"DejaVuSans-112\"/>\n      <path d=\"M 30.609375 48.390625 \nQ 23.390625 48.390625 19.1875 42.75 \nQ 14.984375 37.109375 14.984375 27.296875 \nQ 14.984375 17.484375 19.15625 11.84375 \nQ 23.34375 6.203125 30.609375 6.203125 \nQ 37.796875 6.203125 41.984375 11.859375 \nQ 46.1875 17.53125 46.1875 27.296875 \nQ 46.1875 37.015625 41.984375 42.703125 \nQ 37.796875 48.390625 30.609375 48.390625 \nz\nM 30.609375 56 \nQ 42.328125 56 49.015625 48.375 \nQ 55.71875 40.765625 55.71875 27.296875 \nQ 55.71875 13.875 49.015625 6.21875 \nQ 42.328125 -1.421875 30.609375 -1.421875 \nQ 18.84375 -1.421875 12.171875 6.21875 \nQ 5.515625 13.875 5.515625 27.296875 \nQ 5.515625 40.765625 12.171875 48.375 \nQ 18.84375 56 30.609375 56 \nz\n\" id=\"DejaVuSans-111\"/>\n      <path d=\"M 48.78125 52.59375 \nL 48.78125 44.1875 \nQ 44.96875 46.296875 41.140625 47.34375 \nQ 37.3125 48.390625 33.40625 48.390625 \nQ 24.65625 48.390625 19.8125 42.84375 \nQ 14.984375 37.3125 14.984375 27.296875 \nQ 14.984375 17.28125 19.8125 11.734375 \nQ 24.65625 6.203125 33.40625 6.203125 \nQ 37.3125 6.203125 41.140625 7.25 \nQ 44.96875 8.296875 48.78125 10.40625 \nL 48.78125 2.09375 \nQ 45.015625 0.34375 40.984375 -0.53125 \nQ 36.96875 -1.421875 32.421875 -1.421875 \nQ 20.0625 -1.421875 12.78125 6.34375 \nQ 5.515625 14.109375 5.515625 27.296875 \nQ 5.515625 40.671875 12.859375 48.328125 \nQ 20.21875 56 33.015625 56 \nQ 37.15625 56 41.109375 55.140625 \nQ 45.0625 54.296875 48.78125 52.59375 \nz\n\" id=\"DejaVuSans-99\"/>\n      <path d=\"M 54.890625 33.015625 \nL 54.890625 0 \nL 45.90625 0 \nL 45.90625 32.71875 \nQ 45.90625 40.484375 42.875 44.328125 \nQ 39.84375 48.1875 33.796875 48.1875 \nQ 26.515625 48.1875 22.3125 43.546875 \nQ 18.109375 38.921875 18.109375 30.90625 \nL 18.109375 0 \nL 9.078125 0 \nL 9.078125 75.984375 \nL 18.109375 75.984375 \nL 18.109375 46.1875 \nQ 21.34375 51.125 25.703125 53.5625 \nQ 30.078125 56 35.796875 56 \nQ 45.21875 56 50.046875 50.171875 \nQ 54.890625 44.34375 54.890625 33.015625 \nz\n\" id=\"DejaVuSans-104\"/>\n     </defs>\n     <g transform=\"translate(112.525 171.376563)scale(0.1 -0.1)\">\n      <use xlink:href=\"#DejaVuSans-101\"/>\n      <use x=\"61.523438\" xlink:href=\"#DejaVuSans-112\"/>\n      <use x=\"125\" xlink:href=\"#DejaVuSans-111\"/>\n      <use x=\"186.181641\" xlink:href=\"#DejaVuSans-99\"/>\n      <use x=\"241.162109\" xlink:href=\"#DejaVuSans-104\"/>\n     </g>\n    </g>\n   </g>\n   <g id=\"matplotlib.axis_2\">\n    <g id=\"ytick_1\">\n     <g id=\"line2d_11\">\n      <path clip-path=\"url(#p49c2ce7dbb)\" d=\"M 30.103125 138.529384 \nL 225.403125 138.529384 \n\" style=\"fill:none;stroke:#b0b0b0;stroke-linecap:square;stroke-width:0.8;\"/>\n     </g>\n     <g id=\"line2d_12\">\n      <defs>\n       <path d=\"M 0 0 \nL -3.5 0 \n\" id=\"md2ae405d9e\" style=\"stroke:#000000;stroke-width:0.8;\"/>\n      </defs>\n      <g>\n       <use style=\"stroke:#000000;stroke-width:0.8;\" x=\"30.103125\" xlink:href=\"#md2ae405d9e\" y=\"138.529384\"/>\n      </g>\n     </g>\n     <g id=\"text_7\">\n      <!-- 0.0 -->\n      <defs>\n       <path d=\"M 10.6875 12.40625 \nL 21 12.40625 \nL 21 0 \nL 10.6875 0 \nz\n\" id=\"DejaVuSans-46\"/>\n      </defs>\n      <g transform=\"translate(7.2 142.328602)scale(0.1 -0.1)\">\n       <use xlink:href=\"#DejaVuSans-48\"/>\n       <use x=\"63.623047\" xlink:href=\"#DejaVuSans-46\"/>\n       <use x=\"95.410156\" xlink:href=\"#DejaVuSans-48\"/>\n      </g>\n     </g>\n    </g>\n    <g id=\"ytick_2\">\n     <g id=\"line2d_13\">\n      <path clip-path=\"url(#p49c2ce7dbb)\" d=\"M 30.103125 113.421229 \nL 225.403125 113.421229 \n\" style=\"fill:none;stroke:#b0b0b0;stroke-linecap:square;stroke-width:0.8;\"/>\n     </g>\n     <g id=\"line2d_14\">\n      <g>\n       <use style=\"stroke:#000000;stroke-width:0.8;\" x=\"30.103125\" xlink:href=\"#md2ae405d9e\" y=\"113.421229\"/>\n      </g>\n     </g>\n     <g id=\"text_8\">\n      <!-- 0.2 -->\n      <g transform=\"translate(7.2 117.220448)scale(0.1 -0.1)\">\n       <use xlink:href=\"#DejaVuSans-48\"/>\n       <use x=\"63.623047\" xlink:href=\"#DejaVuSans-46\"/>\n       <use x=\"95.410156\" xlink:href=\"#DejaVuSans-50\"/>\n      </g>\n     </g>\n    </g>\n    <g id=\"ytick_3\">\n     <g id=\"line2d_15\">\n      <path clip-path=\"url(#p49c2ce7dbb)\" d=\"M 30.103125 88.313074 \nL 225.403125 88.313074 \n\" style=\"fill:none;stroke:#b0b0b0;stroke-linecap:square;stroke-width:0.8;\"/>\n     </g>\n     <g id=\"line2d_16\">\n      <g>\n       <use style=\"stroke:#000000;stroke-width:0.8;\" x=\"30.103125\" xlink:href=\"#md2ae405d9e\" y=\"88.313074\"/>\n      </g>\n     </g>\n     <g id=\"text_9\">\n      <!-- 0.4 -->\n      <g transform=\"translate(7.2 92.112293)scale(0.1 -0.1)\">\n       <use xlink:href=\"#DejaVuSans-48\"/>\n       <use x=\"63.623047\" xlink:href=\"#DejaVuSans-46\"/>\n       <use x=\"95.410156\" xlink:href=\"#DejaVuSans-52\"/>\n      </g>\n     </g>\n    </g>\n    <g id=\"ytick_4\">\n     <g id=\"line2d_17\">\n      <path clip-path=\"url(#p49c2ce7dbb)\" d=\"M 30.103125 63.204919 \nL 225.403125 63.204919 \n\" style=\"fill:none;stroke:#b0b0b0;stroke-linecap:square;stroke-width:0.8;\"/>\n     </g>\n     <g id=\"line2d_18\">\n      <g>\n       <use style=\"stroke:#000000;stroke-width:0.8;\" x=\"30.103125\" xlink:href=\"#md2ae405d9e\" y=\"63.204919\"/>\n      </g>\n     </g>\n     <g id=\"text_10\">\n      <!-- 0.6 -->\n      <g transform=\"translate(7.2 67.004138)scale(0.1 -0.1)\">\n       <use xlink:href=\"#DejaVuSans-48\"/>\n       <use x=\"63.623047\" xlink:href=\"#DejaVuSans-46\"/>\n       <use x=\"95.410156\" xlink:href=\"#DejaVuSans-54\"/>\n      </g>\n     </g>\n    </g>\n    <g id=\"ytick_5\">\n     <g id=\"line2d_19\">\n      <path clip-path=\"url(#p49c2ce7dbb)\" d=\"M 30.103125 38.096764 \nL 225.403125 38.096764 \n\" style=\"fill:none;stroke:#b0b0b0;stroke-linecap:square;stroke-width:0.8;\"/>\n     </g>\n     <g id=\"line2d_20\">\n      <g>\n       <use style=\"stroke:#000000;stroke-width:0.8;\" x=\"30.103125\" xlink:href=\"#md2ae405d9e\" y=\"38.096764\"/>\n      </g>\n     </g>\n     <g id=\"text_11\">\n      <!-- 0.8 -->\n      <g transform=\"translate(7.2 41.895983)scale(0.1 -0.1)\">\n       <use xlink:href=\"#DejaVuSans-48\"/>\n       <use x=\"63.623047\" xlink:href=\"#DejaVuSans-46\"/>\n       <use x=\"95.410156\" xlink:href=\"#DejaVuSans-56\"/>\n      </g>\n     </g>\n    </g>\n    <g id=\"ytick_6\">\n     <g id=\"line2d_21\">\n      <path clip-path=\"url(#p49c2ce7dbb)\" d=\"M 30.103125 12.98861 \nL 225.403125 12.98861 \n\" style=\"fill:none;stroke:#b0b0b0;stroke-linecap:square;stroke-width:0.8;\"/>\n     </g>\n     <g id=\"line2d_22\">\n      <g>\n       <use style=\"stroke:#000000;stroke-width:0.8;\" x=\"30.103125\" xlink:href=\"#md2ae405d9e\" y=\"12.98861\"/>\n      </g>\n     </g>\n     <g id=\"text_12\">\n      <!-- 1.0 -->\n      <g transform=\"translate(7.2 16.787828)scale(0.1 -0.1)\">\n       <use xlink:href=\"#DejaVuSans-49\"/>\n       <use x=\"63.623047\" xlink:href=\"#DejaVuSans-46\"/>\n       <use x=\"95.410156\" xlink:href=\"#DejaVuSans-48\"/>\n      </g>\n     </g>\n    </g>\n   </g>\n   <g id=\"line2d_23\">\n    <path clip-path=\"url(#p49c2ce7dbb)\" d=\"M 12.743125 19.253301 \nL 17.083125 50.278679 \nL 21.423125 63.867056 \nL 25.763125 71.575226 \nL 30.103125 77.021666 \nL 34.443125 102.805635 \nL 38.783125 103.982377 \nL 43.123125 104.635949 \nL 47.463125 105.434428 \nL 51.803125 106.061092 \nL 56.143125 114.326678 \nL 60.483125 114.631178 \nL 64.823125 114.320246 \nL 69.163125 114.273493 \nL 73.503125 114.181244 \nL 77.843125 120.226729 \nL 82.183125 120.33868 \nL 86.523125 120.334685 \nL 90.863125 120.052908 \nL 95.203125 119.953793 \nL 99.543125 126.702819 \nL 103.883125 126.383199 \nL 108.223125 125.159438 \nL 112.563125 124.823893 \nL 116.903125 124.349501 \nL 121.243125 129.416767 \nL 125.583125 129.786393 \nL 129.923125 129.218341 \nL 134.263125 128.701009 \nL 138.603125 128.65768 \nL 142.943125 132.234189 \nL 147.283125 131.886754 \nL 151.623125 131.729738 \nL 155.963125 131.329119 \nL 160.303125 130.993593 \nL 164.643125 133.927573 \nL 168.983125 134.604164 \nL 173.323125 134.588101 \nL 177.663125 134.454016 \nL 182.003125 134.241954 \nL 186.343125 135.723097 \nL 190.683125 135.935303 \nL 195.023125 135.880759 \nL 199.363125 135.692733 \nL 203.703125 135.607825 \nL 208.043125 136.75699 \nL 212.383125 136.777604 \nL 216.723125 136.832004 \nL 221.063125 136.922727 \nL 225.403125 136.870783 \n\" style=\"fill:none;stroke:#1f77b4;stroke-linecap:square;stroke-width:1.5;\"/>\n   </g>\n   <g id=\"line2d_24\">\n    <path clip-path=\"url(#p49c2ce7dbb)\" d=\"M 12.743125 51.374955 \nL 17.083125 42.521785 \nL 21.423125 38.356917 \nL 25.763125 35.971899 \nL 30.103125 34.238478 \nL 34.443125 26.323143 \nL 38.783125 25.78058 \nL 43.123125 25.502343 \nL 47.463125 25.175414 \nL 51.803125 24.975661 \nL 56.143125 22.055675 \nL 60.483125 21.779177 \nL 64.823125 21.930468 \nL 69.163125 21.940902 \nL 73.503125 22.027545 \nL 77.843125 19.582839 \nL 82.183125 19.4785 \nL 86.523125 19.488934 \nL 90.863125 19.559363 \nL 95.203125 19.631809 \nL 99.543125 17.224776 \nL 103.883125 17.229993 \nL 108.223125 17.711692 \nL 112.563125 17.809075 \nL 116.903125 17.997687 \nL 121.243125 15.889236 \nL 125.583125 15.748378 \nL 129.923125 16.0527 \nL 134.263125 16.335285 \nL 138.603125 16.384488 \nL 142.943125 14.981486 \nL 147.283125 15.174513 \nL 151.623125 15.273635 \nL 155.963125 15.458837 \nL 160.303125 15.606135 \nL 164.643125 14.376319 \nL 168.983125 14.073736 \nL 173.323125 14.125906 \nL 177.663125 14.193726 \nL 182.003125 14.285864 \nL 186.343125 13.865058 \nL 190.683125 13.760719 \nL 195.023125 13.792021 \nL 199.363125 13.867666 \nL 203.703125 13.888319 \nL 208.043125 13.458136 \nL 212.383125 13.447702 \nL 216.723125 13.412922 \nL 221.063125 13.377273 \nL 225.403125 13.411264 \n\" style=\"fill:none;stroke:#bf00bf;stroke-dasharray:5.55,2.4;stroke-dashoffset:0;stroke-width:1.5;\"/>\n   </g>\n   <g id=\"line2d_25\">\n    <path clip-path=\"url(#p49c2ce7dbb)\" d=\"M 30.103125 30.162588 \nL 51.803125 26.095066 \nL 73.503125 28.254368 \nL 95.203125 28.480341 \nL 116.903125 33.313661 \nL 138.603125 36.79114 \nL 160.303125 30.87817 \nL 182.003125 22.71802 \nL 203.703125 26.145283 \nL 225.403125 22.391614 \n\" style=\"fill:none;stroke:#008000;stroke-dasharray:9.6,2.4,1.5,2.4;stroke-dashoffset:0;stroke-width:1.5;\"/>\n   </g>\n   <g id=\"patch_3\">\n    <path d=\"M 30.103125 143.1 \nL 30.103125 7.2 \n\" style=\"fill:none;stroke:#000000;stroke-linecap:square;stroke-linejoin:miter;stroke-width:0.8;\"/>\n   </g>\n   <g id=\"patch_4\">\n    <path d=\"M 225.403125 143.1 \nL 225.403125 7.2 \n\" style=\"fill:none;stroke:#000000;stroke-linecap:square;stroke-linejoin:miter;stroke-width:0.8;\"/>\n   </g>\n   <g id=\"patch_5\">\n    <path d=\"M 30.103125 143.1 \nL 225.403125 143.1 \n\" style=\"fill:none;stroke:#000000;stroke-linecap:square;stroke-linejoin:miter;stroke-width:0.8;\"/>\n   </g>\n   <g id=\"patch_6\">\n    <path d=\"M 30.103125 7.2 \nL 225.403125 7.2 \n\" style=\"fill:none;stroke:#000000;stroke-linecap:square;stroke-linejoin:miter;stroke-width:0.8;\"/>\n   </g>\n   <g id=\"legend_1\">\n    <g id=\"patch_7\">\n     <path d=\"M 140.634375 98.667187 \nL 218.403125 98.667187 \nQ 220.403125 98.667187 220.403125 96.667187 \nL 220.403125 53.632812 \nQ 220.403125 51.632812 218.403125 51.632812 \nL 140.634375 51.632812 \nQ 138.634375 51.632812 138.634375 53.632812 \nL 138.634375 96.667187 \nQ 138.634375 98.667187 140.634375 98.667187 \nz\n\" style=\"fill:#ffffff;opacity:0.8;stroke:#cccccc;stroke-linejoin:miter;\"/>\n    </g>\n    <g id=\"line2d_26\">\n     <path d=\"M 142.634375 59.73125 \nL 162.634375 59.73125 \n\" style=\"fill:none;stroke:#1f77b4;stroke-linecap:square;stroke-width:1.5;\"/>\n    </g>\n    <g id=\"line2d_27\"/>\n    <g id=\"text_13\">\n     <!-- train loss -->\n     <defs>\n      <path d=\"M 18.3125 70.21875 \nL 18.3125 54.6875 \nL 36.8125 54.6875 \nL 36.8125 47.703125 \nL 18.3125 47.703125 \nL 18.3125 18.015625 \nQ 18.3125 11.328125 20.140625 9.421875 \nQ 21.96875 7.515625 27.59375 7.515625 \nL 36.8125 7.515625 \nL 36.8125 0 \nL 27.59375 0 \nQ 17.1875 0 13.234375 3.875 \nQ 9.28125 7.765625 9.28125 18.015625 \nL 9.28125 47.703125 \nL 2.6875 47.703125 \nL 2.6875 54.6875 \nL 9.28125 54.6875 \nL 9.28125 70.21875 \nz\n\" id=\"DejaVuSans-116\"/>\n      <path d=\"M 41.109375 46.296875 \nQ 39.59375 47.171875 37.8125 47.578125 \nQ 36.03125 48 33.890625 48 \nQ 26.265625 48 22.1875 43.046875 \nQ 18.109375 38.09375 18.109375 28.8125 \nL 18.109375 0 \nL 9.078125 0 \nL 9.078125 54.6875 \nL 18.109375 54.6875 \nL 18.109375 46.1875 \nQ 20.953125 51.171875 25.484375 53.578125 \nQ 30.03125 56 36.53125 56 \nQ 37.453125 56 38.578125 55.875 \nQ 39.703125 55.765625 41.0625 55.515625 \nz\n\" id=\"DejaVuSans-114\"/>\n      <path d=\"M 34.28125 27.484375 \nQ 23.390625 27.484375 19.1875 25 \nQ 14.984375 22.515625 14.984375 16.5 \nQ 14.984375 11.71875 18.140625 8.90625 \nQ 21.296875 6.109375 26.703125 6.109375 \nQ 34.1875 6.109375 38.703125 11.40625 \nQ 43.21875 16.703125 43.21875 25.484375 \nL 43.21875 27.484375 \nz\nM 52.203125 31.203125 \nL 52.203125 0 \nL 43.21875 0 \nL 43.21875 8.296875 \nQ 40.140625 3.328125 35.546875 0.953125 \nQ 30.953125 -1.421875 24.3125 -1.421875 \nQ 15.921875 -1.421875 10.953125 3.296875 \nQ 6 8.015625 6 15.921875 \nQ 6 25.140625 12.171875 29.828125 \nQ 18.359375 34.515625 30.609375 34.515625 \nL 43.21875 34.515625 \nL 43.21875 35.40625 \nQ 43.21875 41.609375 39.140625 45 \nQ 35.0625 48.390625 27.6875 48.390625 \nQ 23 48.390625 18.546875 47.265625 \nQ 14.109375 46.140625 10.015625 43.890625 \nL 10.015625 52.203125 \nQ 14.9375 54.109375 19.578125 55.046875 \nQ 24.21875 56 28.609375 56 \nQ 40.484375 56 46.34375 49.84375 \nQ 52.203125 43.703125 52.203125 31.203125 \nz\n\" id=\"DejaVuSans-97\"/>\n      <path d=\"M 9.421875 54.6875 \nL 18.40625 54.6875 \nL 18.40625 0 \nL 9.421875 0 \nz\nM 9.421875 75.984375 \nL 18.40625 75.984375 \nL 18.40625 64.59375 \nL 9.421875 64.59375 \nz\n\" id=\"DejaVuSans-105\"/>\n      <path d=\"M 54.890625 33.015625 \nL 54.890625 0 \nL 45.90625 0 \nL 45.90625 32.71875 \nQ 45.90625 40.484375 42.875 44.328125 \nQ 39.84375 48.1875 33.796875 48.1875 \nQ 26.515625 48.1875 22.3125 43.546875 \nQ 18.109375 38.921875 18.109375 30.90625 \nL 18.109375 0 \nL 9.078125 0 \nL 9.078125 54.6875 \nL 18.109375 54.6875 \nL 18.109375 46.1875 \nQ 21.34375 51.125 25.703125 53.5625 \nQ 30.078125 56 35.796875 56 \nQ 45.21875 56 50.046875 50.171875 \nQ 54.890625 44.34375 54.890625 33.015625 \nz\n\" id=\"DejaVuSans-110\"/>\n      <path id=\"DejaVuSans-32\"/>\n      <path d=\"M 9.421875 75.984375 \nL 18.40625 75.984375 \nL 18.40625 0 \nL 9.421875 0 \nz\n\" id=\"DejaVuSans-108\"/>\n      <path d=\"M 44.28125 53.078125 \nL 44.28125 44.578125 \nQ 40.484375 46.53125 36.375 47.5 \nQ 32.28125 48.484375 27.875 48.484375 \nQ 21.1875 48.484375 17.84375 46.4375 \nQ 14.5 44.390625 14.5 40.28125 \nQ 14.5 37.15625 16.890625 35.375 \nQ 19.28125 33.59375 26.515625 31.984375 \nL 29.59375 31.296875 \nQ 39.15625 29.25 43.1875 25.515625 \nQ 47.21875 21.78125 47.21875 15.09375 \nQ 47.21875 7.46875 41.1875 3.015625 \nQ 35.15625 -1.421875 24.609375 -1.421875 \nQ 20.21875 -1.421875 15.453125 -0.5625 \nQ 10.6875 0.296875 5.421875 2 \nL 5.421875 11.28125 \nQ 10.40625 8.6875 15.234375 7.390625 \nQ 20.0625 6.109375 24.8125 6.109375 \nQ 31.15625 6.109375 34.5625 8.28125 \nQ 37.984375 10.453125 37.984375 14.40625 \nQ 37.984375 18.0625 35.515625 20.015625 \nQ 33.0625 21.96875 24.703125 23.78125 \nL 21.578125 24.515625 \nQ 13.234375 26.265625 9.515625 29.90625 \nQ 5.8125 33.546875 5.8125 39.890625 \nQ 5.8125 47.609375 11.28125 51.796875 \nQ 16.75 56 26.8125 56 \nQ 31.78125 56 36.171875 55.265625 \nQ 40.578125 54.546875 44.28125 53.078125 \nz\n\" id=\"DejaVuSans-115\"/>\n     </defs>\n     <g transform=\"translate(170.634375 63.23125)scale(0.1 -0.1)\">\n      <use xlink:href=\"#DejaVuSans-116\"/>\n      <use x=\"39.208984\" xlink:href=\"#DejaVuSans-114\"/>\n      <use x=\"80.322266\" xlink:href=\"#DejaVuSans-97\"/>\n      <use x=\"141.601562\" xlink:href=\"#DejaVuSans-105\"/>\n      <use x=\"169.384766\" xlink:href=\"#DejaVuSans-110\"/>\n      <use x=\"232.763672\" xlink:href=\"#DejaVuSans-32\"/>\n      <use x=\"264.550781\" xlink:href=\"#DejaVuSans-108\"/>\n      <use x=\"292.333984\" xlink:href=\"#DejaVuSans-111\"/>\n      <use x=\"353.515625\" xlink:href=\"#DejaVuSans-115\"/>\n      <use x=\"405.615234\" xlink:href=\"#DejaVuSans-115\"/>\n     </g>\n    </g>\n    <g id=\"line2d_28\">\n     <path d=\"M 142.634375 74.409375 \nL 162.634375 74.409375 \n\" style=\"fill:none;stroke:#bf00bf;stroke-dasharray:5.55,2.4;stroke-dashoffset:0;stroke-width:1.5;\"/>\n    </g>\n    <g id=\"line2d_29\"/>\n    <g id=\"text_14\">\n     <!-- train acc -->\n     <g transform=\"translate(170.634375 77.909375)scale(0.1 -0.1)\">\n      <use xlink:href=\"#DejaVuSans-116\"/>\n      <use x=\"39.208984\" xlink:href=\"#DejaVuSans-114\"/>\n      <use x=\"80.322266\" xlink:href=\"#DejaVuSans-97\"/>\n      <use x=\"141.601562\" xlink:href=\"#DejaVuSans-105\"/>\n      <use x=\"169.384766\" xlink:href=\"#DejaVuSans-110\"/>\n      <use x=\"232.763672\" xlink:href=\"#DejaVuSans-32\"/>\n      <use x=\"264.550781\" xlink:href=\"#DejaVuSans-97\"/>\n      <use x=\"325.830078\" xlink:href=\"#DejaVuSans-99\"/>\n      <use x=\"380.810547\" xlink:href=\"#DejaVuSans-99\"/>\n     </g>\n    </g>\n    <g id=\"line2d_30\">\n     <path d=\"M 142.634375 89.0875 \nL 162.634375 89.0875 \n\" style=\"fill:none;stroke:#008000;stroke-dasharray:9.6,2.4,1.5,2.4;stroke-dashoffset:0;stroke-width:1.5;\"/>\n    </g>\n    <g id=\"line2d_31\"/>\n    <g id=\"text_15\">\n     <!-- test acc -->\n     <g transform=\"translate(170.634375 92.5875)scale(0.1 -0.1)\">\n      <use xlink:href=\"#DejaVuSans-116\"/>\n      <use x=\"39.208984\" xlink:href=\"#DejaVuSans-101\"/>\n      <use x=\"100.732422\" xlink:href=\"#DejaVuSans-115\"/>\n      <use x=\"152.832031\" xlink:href=\"#DejaVuSans-116\"/>\n      <use x=\"192.041016\" xlink:href=\"#DejaVuSans-32\"/>\n      <use x=\"223.828125\" xlink:href=\"#DejaVuSans-97\"/>\n      <use x=\"285.107422\" xlink:href=\"#DejaVuSans-99\"/>\n      <use x=\"340.087891\" xlink:href=\"#DejaVuSans-99\"/>\n     </g>\n    </g>\n   </g>\n  </g>\n </g>\n <defs>\n  <clipPath id=\"p49c2ce7dbb\">\n   <rect height=\"135.9\" width=\"195.3\" x=\"30.103125\" y=\"7.2\"/>\n  </clipPath>\n </defs>\n</svg>\n"
          },
          "metadata": {
            "tags": [],
            "needs_background": "light"
          }
        }
      ]
    },
    {
      "cell_type": "markdown",
      "source": "## Summary\n\n* Nested function classes are desirable. Learning an additional layer in deep neural networks as an identity function (though this is an extreme case) should be made easy.\n* The residual mapping can learn the identity function more easily, such as pushing parameters in the weight layer to zero.\n* We can train an effective deep neural network by having residual blocks. Inputs can forward propagate faster through the residual connections across layers.\n* ResNet had a major influence on the design of subsequent deep neural networks, both for convolutional and sequential nature.\n",
      "metadata": {
        "origin_pos": 34,
        "id": "NGesxlGC77CT",
        "cell_id": "00031-1a743699-0cc2-4c6d-89bd-2517c09d3ef0",
        "deepnote_cell_type": "markdown"
      }
    },
    {
      "cell_type": "markdown",
      "source": "<a style='text-decoration:none;line-height:16px;display:flex;color:#5B5B62;padding:10px;justify-content:end;' href='https://deepnote.com?utm_source=created-in-deepnote-cell&projectId=6e7b673f-abd3-4fa0-904e-601247e2bdef' target=\"_blank\">\n<img alt='Created in deepnote.com' style='display:inline;max-height:16px;margin:0px;margin-right:7.5px;' src='data:image/svg+xml;base64,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' > </img>\nCreated in <span style='font-weight:600;margin-left:4px;'>Deepnote</span></a>",
      "metadata": {
        "tags": [],
        "created_in_deepnote_cell": true,
        "deepnote_cell_type": "markdown"
      }
    }
  ],
  "nbformat": 4,
  "nbformat_minor": 0,
  "metadata": {
    "kernelspec": {
      "display_name": "Python 3",
      "name": "python3"
    },
    "language_info": {
      "name": "python"
    },
    "colab": {
      "name": "5.4_ResNet.ipynb",
      "provenance": [],
      "collapsed_sections": []
    },
    "accelerator": "GPU",
    "deepnote_notebook_id": "e2c278bc-c3ac-4f5f-8b2f-6d8612d7d44f",
    "deepnote": {},
    "deepnote_execution_queue": []
  }
}